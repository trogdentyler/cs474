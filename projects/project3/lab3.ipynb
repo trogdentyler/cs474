{
 "cells": [
  {
   "cell_type": "markdown",
   "metadata": {},
   "source": [
    "<a href=\"https://colab.research.google.com/github/wingated/cs474_labs_f2019/blob/master/DL_Lab3.ipynb\" target=\"_parent\"><img src=\"https://colab.research.google.com/assets/colab-badge.svg\" alt=\"Open In Colab\"/></a>"
   ]
  },
  {
   "cell_type": "markdown",
   "metadata": {
    "colab_type": "text",
    "id": "view-in-github"
   },
   "source": [
    "# Lab 3: Intro to CNNs and DNNs\n",
    "\n",
    "## Objectives\n",
    "\n",
    "* Build and train a deep conv net\n",
    "* Explore and implement various initialization techniques\n",
    "* Implement a parameterized module in Pytorch\n",
    "* Use a principled loss function\n",
    "\n",
    "## Video Tutorial\n",
    "[https://youtu.be/3TAuTcx-VCc](https://youtu.be/3TAuTcx-VCc)\n",
    "\n",
    "## Deliverable\n",
    "For this lab, you will submit an ipython notebook via learningsuite.\n",
    "This is where you build your first deep neural network!\n",
    "\n",
    "For this lab, we'll be combining several different concepts that we've covered during class,\n",
    "including new layer types, initialization strategies, and an understanding of convolutions.\n",
    "\n",
    "## Grading Standards:\n",
    "* 20% Part 0: Successfully followed lab video and typed in code\n",
    "* 20% Part 1: Re-implement Conv2D and CrossEntropy loss function\n",
    "* 20% Part 2: Implement different initialization strategies\n",
    "* 10% Part 3: Print parameters, plot train/test accuracy\n",
    "* 10% Reach 85% validation accuracy from parts 1-3\n",
    "* 10% Part 4: Convolution parameters quiz\n",
    "* 10% Tidy and legible figures, including labeled axes where appropriate\n",
    "___\n",
    "\n",
    "### Part 0\n",
    "Watch and follow video tutorial:\n",
    "\n",
    "[https://youtu.be/3TAuTcx-VCc](https://youtu.be/3TAuTcx-VCc)\n",
    "\n",
    "**TODO:**\n",
    "\n",
    "* Watch tutorial\n",
    "\n",
    "**DONE:**"
   ]
  },
  {
   "cell_type": "code",
   "execution_count": null,
   "metadata": {
    "pycharm": {
     "name": "#%%\n"
    }
   },
   "outputs": [],
   "source": [
    "!pip3 install torch\n",
    "!pip3 install torchvision\n",
    "!pip3 install tqdm"
   ]
  },
  {
   "cell_type": "markdown",
   "metadata": {},
   "source": []
  },
  {
   "cell_type": "code",
   "execution_count": null,
   "metadata": {
    "colab": {},
    "colab_type": "code",
    "collapsed": true,
    "id": "wQOefmcZVgTl"
   },
   "outputs": [],
   "source": [
    "import torch\n",
    "import torch.nn as nn\n",
    "import torch.nn.functional as F\n",
    "import torch.optim as optim\n",
    "from torch.utils.data import Dataset, DataLoader\n",
    "import numpy as np\n",
    "import matplotlib.pyplot as plt\n",
    "from torchvision import transforms, utils, datasets\n",
    "from tqdm import tqdm\n",
    "from torch.nn.parameter import Parameter\n",
    "import pdb\n",
    "\n",
    "assert torch.cuda.is_available(), \"You need to request a GPU from Runtime > Change Runtime\""
   ]
  },
  {
   "cell_type": "code",
   "execution_count": null,
   "metadata": {
    "colab": {},
    "colab_type": "code",
    "collapsed": true,
    "id": "Il_53HLSWPTY"
   },
   "outputs": [],
   "source": [
    "# Use the dataset class you created in lab2\n"
   ]
  },
  {
   "cell_type": "markdown",
   "metadata": {
    "colab_type": "text",
    "id": "QY4owfQwm-Ni"
   },
   "source": [
    "___\n",
    "\n",
    "### Part 1\n",
    "Re-implement a Conv2D module with parameters and a CrossEntropy loss function.\n",
    "\n",
    "**TODO:**\n",
    "\n",
    "* CrossEntropyLoss \n",
    "* Conv2D\n",
    "\n",
    "**DONE:**\n",
    "\n",
    "___\n",
    "\n",
    "### Part 2\n",
    "Implement a few initialization strategies which can include Xe initialization\n",
    "(sometimes called Xavier), Orthogonal initialization, and uniform random.\n",
    "You can specify which strategy you want to use with a parameter. \n",
    "\n",
    "\n",
    "\n",
    "Helpful links include:\n",
    "*  [Orthogonal Initialization](https://hjweide.github.io/orthogonal-initialization-in-convolutional-layers) (or the original paper: http://arxiv.org/abs/1312.6120)\n",
    "*  http://andyljones.tumblr.com/post/110998971763/an-explanation-of-xavier-initialization\n",
    "\n",
    "**TODO:**\n",
    "* Parameterize custom Conv2D for different initilization strategies\n",
    "* Xe\n",
    "* Orthogonal\n",
    "* Uniform\n",
    "\n",
    "**DONE:**\n",
    "\n"
   ]
  },
  {
   "cell_type": "code",
   "execution_count": null,
   "metadata": {
    "colab": {},
    "colab_type": "code",
    "collapsed": true,
    "id": "RkieTbwlYWPS"
   },
   "outputs": [],
   "source": [
    "class CrossEntropyLoss(nn.Module):\n",
    "  pass\n",
    "\n",
    "class Conv2d(nn.Module):\n",
    "  pass\n"
   ]
  },
  {
   "cell_type": "code",
   "execution_count": null,
   "metadata": {
    "colab": {},
    "colab_type": "code",
    "collapsed": true,
    "id": "d4C-_v9Hm7YE"
   },
   "outputs": [],
   "source": [
    "class ConvNetwork(nn.Module):\n",
    "  pass\n"
   ]
  },
  {
   "cell_type": "code",
   "execution_count": 5,
   "metadata": {
    "colab": {
     "base_uri": "https://localhost:8080/",
     "height": 35
    },
    "colab_type": "code",
    "collapsed": true,
    "id": "jYqywck8Wdm9",
    "outputId": "7c006489-be49-42b7-c3ed-0bf4656bae88",
    "pycharm": {
     "is_executing": false
    }
   },
   "outputs": [],
   "source": [
    "# Initialize Datasets\n",
    "\n",
    "# Initialize DataLoaders\n",
    "\n",
    "# Initialize Model\n",
    "\n",
    "# Initialize Objective and Optimizer and other parameters\n"
   ]
  },
  {
   "cell_type": "code",
   "execution_count": 4,
   "metadata": {
    "colab": {
     "base_uri": "https://localhost:8080/",
     "height": 16
    },
    "colab_type": "code",
    "collapsed": true,
    "id": "mTg1jyIsYVZN",
    "outputId": "cfc985dd-006e-4044-dc4b-834a00dcbac1",
    "pycharm": {
     "is_executing": false
    }
   },
   "outputs": [],
   "source": [
    "\n",
    "# Run your training and validation loop and collect stats\n"
   ]
  },
  {
   "cell_type": "markdown",
   "metadata": {
    "colab_type": "text",
    "id": "ronkEckHiDaU"
   },
   "source": [
    "\n",
    "___\n",
    "\n",
    "### Part 3\n",
    "Print the number of parameters in your network and plot accuracy of your training and validation \n",
    "set over time. You should experiment with some deep networks and see if you can get a network \n",
    "with close to 1,000,000 parameters.\n",
    "\n",
    "Once you've experimented with multiple network setups and the different initialization strategies, plot the best-performing experiment here. You should be able to exceed 85% accuracy on the validation set.\n",
    "\n",
    "**TODO:**\n",
    "* Experiment with Deep Networks\n",
    "* Plot accuracy of training and validation set over time\n",
    "* Print out number of parameters in the model \n",
    "* Plot experiment results with 85% or better validation accuracy\n",
    "\n",
    "**DONE:**\n"
   ]
  },
  {
   "cell_type": "code",
   "execution_count": 3,
   "metadata": {
    "colab": {
     "base_uri": "https://localhost:8080/",
     "height": 350
    },
    "colab_type": "code",
    "collapsed": true,
    "id": "PaWCKjxvyRSf",
    "outputId": "698e686b-9e1c-4e6e-d4a4-37a29f6f325d",
    "pycharm": {
     "is_executing": false
    }
   },
   "outputs": [],
   "source": [
    "\n",
    "# Go back up and try a few different networks and initialization strategies\n",
    "# Plot loss if you want\n",
    "# Plot accuracy\n",
    "\n"
   ]
  },
  {
   "cell_type": "code",
   "execution_count": 2,
   "metadata": {
    "colab": {
     "base_uri": "https://localhost:8080/",
     "height": 35
    },
    "colab_type": "code",
    "collapsed": true,
    "id": "oijCR-JnyS6V",
    "outputId": "019b290d-7a98-41ac-e6c5-d1df99a7cbf2",
    "pycharm": {
     "is_executing": false
    }
   },
   "outputs": [],
   "source": [
    "# Compute and print the number of parameters in the model\n"
   ]
  },
  {
   "cell_type": "markdown",
   "metadata": {
    "colab_type": "text",
    "id": "7hXGRxUQh9gX"
   },
   "source": [
    "___\n",
    "\n",
    "### Part 4\n",
    "Learn about how convolution layers affect the shape of outputs, and answer the following quiz questions. Include these in a new markdown cell in your jupyter notebook.\n",
    "\n",
    "\n",
    "*Using a Kernel size of 3×3 what should the settings of your 2d convolution be that results in the following mappings (first answer given to you)*\n",
    "\n",
    "* (c=3, h=10, w=10) ⇒ (c=10, h=8, w=8) : (out_channels=10, kernel_size=(3, 3), padding=(0, 0))\n",
    "* (c=3, h=10, w=10) ⇒ (c=22, h=10, w=10) : **Your answer in bold here**\n",
    "* (c=3, h=10, w=10) ⇒ (c=65, h=12, w=12) : **Your answer in bold here**\n",
    "* (c=3, h=10, w=10) ⇒ (c=7, h=20, w=20) : **Your answer in bold here**\n",
    "\n",
    "*Using a Kernel size of 5×5:*)\n",
    "\n",
    "* (c=3, h=10, w=10) ⇒ (c=10, h=8, w=8) : (out_channels=10, kernel_size=(5, 5), padding=(1, 1))\n",
    "* (c=3, h=10, w=10) ⇒ (c=100, h=10, w=10) : **Your answer in bold here**\n",
    "* (c=3, h=10, w=10) ⇒ (c=23, h=12, w=12) : **Your answer in bold here**\n",
    "* (c=3, h=10, w=10) ⇒ (c=5, h=24, w=24) : **Your answer in bold here**\n",
    "\n",
    "*Using Kernel size of 5×3:*\n",
    "\n",
    "* (c=3, h=10, w=10) ⇒ (c=10, h=8, w=8) : **Your answer in bold here**\n",
    "* (c=3, h=10, w=10) ⇒ (c=100, h=10, w=10) : **Your answer in bold here**\n",
    "* (c=3, h=10, w=10) ⇒ (c=23, h=12, w=12) : **Your answer in bold here**\n",
    "* (c=3, h=10, w=10) ⇒ (c=5, h=24, w=24) : **Your answer in bold here**\n",
    "\n",
    "*Determine the kernel that requires the smallest padding size to make the following mappings possible:*\n",
    "\n",
    "* (c=3, h=10, w=10) ⇒ (c=10, h=9, w=7) : **Your answer in bold here**\n",
    "* (c=3, h=10, w=10) ⇒ (c=22, h=10, w=10) : **Your answer in bold here**\n",
    "\n",
    "**TODO:**\n",
    "\n",
    "* Answer all the questions above \n",
    "\n",
    "**DONE:**\n"
   ]
  },
  {
   "cell_type": "code",
   "execution_count": 1,
   "metadata": {
    "colab": {
     "base_uri": "https://localhost:8080/",
     "height": 35
    },
    "colab_type": "code",
    "collapsed": true,
    "id": "XXfG3wClh8an",
    "outputId": "a616216f-6637-495e-c596-4fc989677d80",
    "pycharm": {
     "is_executing": false
    }
   },
   "outputs": [],
   "source": [
    "# Write some test code for checking the answers for these problems (example shown in the video)\n"
   ]
  }
 ],
 "metadata": {
  "accelerator": "GPU",
  "colab": {
   "collapsed_sections": [],
   "include_colab_link": true,
   "name": "DL_Lab3.ipynb",
   "provenance": [],
   "version": "0.3.2"
  },
  "kernelspec": {
   "display_name": "Python 3",
   "language": "python",
   "name": "python3"
  },
  "language_info": {
   "codemirror_mode": {
    "name": "ipython",
    "version": 3
   },
   "file_extension": ".py",
   "mimetype": "text/x-python",
   "name": "python",
   "nbconvert_exporter": "python",
   "pygments_lexer": "ipython3",
   "version": "3.7.1"
  },
  "pycharm": {
   "stem_cell": {
    "cell_type": "raw",
    "metadata": {
     "collapsed": false
    },
    "source": []
   }
  }
 },
 "nbformat": 4,
 "nbformat_minor": 2
}
