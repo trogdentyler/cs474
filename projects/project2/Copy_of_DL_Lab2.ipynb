{
  "cells": [
    {
      "cell_type": "markdown",
      "metadata": {
        "id": "ep2DPT3H32s9"
      },
      "source": [
        "<a href=\"https://colab.research.google.com/github/wingated/cs474_labs_f2019/blob/master/Alternate_Labs/DL_Lab2.ipynb\" target=\"_parent\"><img src=\"https://colab.research.google.com/assets/colab-badge.svg\" alt=\"Open In Colab\"/></a>"
      ]
    },
    {
      "cell_type": "markdown",
      "metadata": {
        "id": "view-in-github"
      },
      "source": [
        "# Lab 2: Intro to PyTorch\n",
        "\n",
        "## Deliverable\n",
        "\n",
        "For this lab, you will submit an IPython notebook via Learning Suite.\n",
        "This lab will be mostly boilerplate code, but you will be required to implement a few extras.\n",
        "\n",
        "**NOTE: you almost certainly will not understand most of what's going on in this lab!\n",
        "That's ok - the point is just to get you going with PyTorch.\n",
        "We'll be working on developing a deeper understanding of every part of this code\n",
        "over the course of the next two weeks.**\n",
        "\n",
        "A major goal of this lab is to help you become conversant in working through PyTorch\n",
        "tutorials and documentation.\n",
        "You should turn to the documentation first, but you may google whatever you need, as there are many great PyTorch tutorials online.\n",
        "\n",
        "This notebook will have four parts:\n",
        "\n",
        "* Part 1: Your notebook should contain the boilerplate code. See below.\n",
        "\n",
        "* Part 2: Your notebook should contain a testing loop.\n",
        "\n",
        "* Part 3: Your notebook should contain a visualization of test/training performance over time.\n",
        "\n",
        "The resulting image could, for example, look like this:\n",
        "![](http://liftothers.org/dokuwiki/lib/exe/fetch.php?cache=&w=900&h=608&tok=3092fe&media=cs501r_f2018:lab2.png)\n",
        "\n",
        "* Part 4: Your notebook should contain the completed microtasks and pass all the asserts.\n",
        "\n",
        "See the assigned readings for pointers to documentation on PyTorch.\n",
        "___\n",
        "\n",
        "### Grading standards:\n",
        "Your notebook will be graded on the following:\n",
        "\n",
        "* 40% Successfully followed lab video and typed in code\n",
        "* 20% Modified code to include a test/train split\n",
        "* 20% Modified code to include a visualization of train/test losses\n",
        "* 10% Tidy and legible figures, including labeled axes where appropriate\n",
        "* 10% Correct solutions to the microtasks\n",
        "___\n",
        "\n",
        "### Description\n",
        "Throughout this class, we will be using PyTorch to implement our deep neural networks. \n",
        "PyTorch is a deep learning framework that handles the low-level details of \n",
        "GPU integration and automatic differentiation.\n",
        "\n",
        "The goal of this lab is to help you become familiar with PyTorch. \n",
        "The four parts of the lab are outlined above.\n",
        "\n",
        "For part 1, you should watch the video below, and type in the code as it is explained to you.\n",
        "\n",
        "A more detailed outline of Part 1 is below.\n",
        "\n",
        "For part 2, you must add a validation (or testing) loop using the \n",
        "FashionMNIST dataset with train=False\n",
        "\n",
        "For part 3, you must plot the loss values.\n",
        "\n",
        "For part 4, you must complete the microtasks and pass all asserts.\n",
        "\n",
        "Optional: Demonstrate overfitting on the training data.\n",
        "\n",
        "The easiest way to do this is to limit the size of your training dataset \n",
        "so that it only returns a single batch (i.e. len(dataloader) == batch_size, \n",
        "and train for multiple epochs. For example,\n",
        "I set my batch size to 42, and augmented my dataloader to produce only 42 \n",
        "unique items by overwriting the len function to return 42. \n",
        "In my training loop, I performed a validation every epoch which basically corresponded \n",
        "to a validation every step.\n",
        "\n",
        "In practice, you will normally compute your validation loss every n steps, \n",
        "rather than at the end of every epoch. This is because some epochs can take hours, \n",
        "or even days and you don’t often want to wait that long to see your results.\n",
        "\n",
        "Testing your algorithm by using a single batch and training until overfitting \n",
        "is a great way of making sure that your model and optimizer are working the way they should!\n",
        "\n",
        "___\n",
        "\n",
        "### Part 0\n",
        "Watch Tutorial Video\n",
        "\n",
        "[https://youtu.be/E76hLX9WCLE](https://youtu.be/E76hLX9WCLE)\n",
        "\n",
        "**TODO:**\n",
        "* Watch video\n",
        "\n",
        "**DONE:**\n",
        "\n",
        "___\n",
        "\n",
        "### Part 1\n",
        "Your notebook should contain the boilerplate code. See below.\n",
        "\n",
        "**TODO:**\n",
        "\n",
        "* Replicate boilerplate from the video\n",
        "\n",
        "**DONE:**\n",
        "\n",
        "___\n",
        "\n",
        "### Part 2\n",
        "Your notebook should contain a testing (validation) loop.\n",
        "\n",
        "**TODO:**\n",
        "\n",
        "* Add a testing (validation) loop\n",
        "\n",
        "**DONE:**"
      ]
    },
    {
      "cell_type": "code",
      "execution_count": 1,
      "metadata": {
        "id": "QClXc9i7VRyA",
        "pycharm": {
          "is_executing": false
        },
        "colab": {
          "base_uri": "https://localhost:8080/"
        },
        "outputId": "d509021e-fa10-482b-fc19-49e8ff4ff63d"
      },
      "outputs": [
        {
          "output_type": "stream",
          "name": "stdout",
          "text": [
            "Looking in indexes: https://pypi.org/simple, https://us-python.pkg.dev/colab-wheels/public/simple/\n",
            "Requirement already satisfied: torch in /usr/local/lib/python3.8/dist-packages (1.13.1+cu116)\n",
            "Requirement already satisfied: typing-extensions in /usr/local/lib/python3.8/dist-packages (from torch) (4.4.0)\n",
            "Looking in indexes: https://pypi.org/simple, https://us-python.pkg.dev/colab-wheels/public/simple/\n",
            "Requirement already satisfied: torchvision in /usr/local/lib/python3.8/dist-packages (0.14.1+cu116)\n",
            "Requirement already satisfied: numpy in /usr/local/lib/python3.8/dist-packages (from torchvision) (1.21.6)\n",
            "Requirement already satisfied: pillow!=8.3.*,>=5.3.0 in /usr/local/lib/python3.8/dist-packages (from torchvision) (7.1.2)\n",
            "Requirement already satisfied: typing-extensions in /usr/local/lib/python3.8/dist-packages (from torchvision) (4.4.0)\n",
            "Requirement already satisfied: torch==1.13.1 in /usr/local/lib/python3.8/dist-packages (from torchvision) (1.13.1+cu116)\n",
            "Requirement already satisfied: requests in /usr/local/lib/python3.8/dist-packages (from torchvision) (2.25.1)\n",
            "Requirement already satisfied: urllib3<1.27,>=1.21.1 in /usr/local/lib/python3.8/dist-packages (from requests->torchvision) (1.24.3)\n",
            "Requirement already satisfied: certifi>=2017.4.17 in /usr/local/lib/python3.8/dist-packages (from requests->torchvision) (2022.12.7)\n",
            "Requirement already satisfied: idna<3,>=2.5 in /usr/local/lib/python3.8/dist-packages (from requests->torchvision) (2.10)\n",
            "Requirement already satisfied: chardet<5,>=3.0.2 in /usr/local/lib/python3.8/dist-packages (from requests->torchvision) (4.0.0)\n",
            "Looking in indexes: https://pypi.org/simple, https://us-python.pkg.dev/colab-wheels/public/simple/\n",
            "Requirement already satisfied: tqdm in /usr/local/lib/python3.8/dist-packages (4.64.1)\n"
          ]
        }
      ],
      "source": [
        "!pip3 install torch \n",
        "!pip3 install torchvision\n",
        "!pip3 install tqdm"
      ]
    },
    {
      "cell_type": "code",
      "execution_count": 4,
      "metadata": {
        "id": "OU80yuvqVXwk",
        "pycharm": {
          "is_executing": false
        },
        "colab": {
          "base_uri": "https://localhost:8080/"
        },
        "outputId": "9ec5475a-9aa7-44a6-d461-59156853bafa"
      },
      "outputs": [
        {
          "output_type": "stream",
          "name": "stderr",
          "text": [
            "  0%|          | 0/142900 [00:31<?, ?it/s]\n",
            "epoch:99 batch:1428 loss:0.6515 val_loss:0.6913:   0%|          | 0/142900 [20:09<?, ?it/s]\n"
          ]
        }
      ],
      "source": [
        "import torch\n",
        "import torch.nn as nn\n",
        "import torch.nn.functional as F\n",
        "import torch.optim as optim\n",
        "from torch.utils.data import Dataset, DataLoader\n",
        "import numpy as np\n",
        "import matplotlib.pyplot as plt\n",
        "from torchvision import transforms, utils, datasets\n",
        "from tqdm import tqdm\n",
        " \n",
        "assert torch.cuda.is_available() # You need to request a GPU from Runtime > Change Runtime Type\n",
        "\n",
        "# Write the boilerplate code from the video here\n",
        "\n",
        "# Create a dataset class that extends the torch.utils.data Dataset class here\n",
        "class FashionMNISTProcessedDataset(Dataset):\n",
        "  def __init__(self, root, train=True):\n",
        "    self.data = datasets.FashionMNIST(root, train=train, transform=transforms.ToTensor(), download=True)\n",
        "\n",
        "  def __getitem__(self, i):\n",
        "    x, y = self.data[i]\n",
        "    return x, y\n",
        "\n",
        "  def __len__(self):\n",
        "    return len(self.data)\n",
        "\n",
        "# Extend the torch.Module class to create your own neural network\n",
        "class LinearNetwork(nn.Module):\n",
        "  def __init__(self, dataset):\n",
        "    super(LinearNetwork, self).__init__()\n",
        "    x, y = dataset[0]\n",
        "    c, h, w = x.size()\n",
        "    out_dim = 10\n",
        "\n",
        "    self.net = nn.Sequential(\n",
        "        nn.Linear(c * h * w, 1000),\n",
        "        nn.ReLU(),\n",
        "        nn.Linear(1000, out_dim)\n",
        "    )\n",
        "\n",
        "  def forward(self, x):\n",
        "    n, c, h, w = x.size()\n",
        "    flattened = x.view(n, c * h * w)\n",
        "    return self.net(flattened)\n",
        "\n",
        "# Instantiate the train and validation sets\n",
        "train_dataset = FashionMNISTProcessedDataset('/tmp/fashionmnist', train=True)\n",
        "val_dataset = FashionMNISTProcessedDataset('/tmp/fashionmnist', train=False)\n",
        "\n",
        "# Instantiate your data loaders\n",
        "train_loader = DataLoader(train_dataset, batch_size=42, pin_memory=True)\n",
        "validation_loader = DataLoader(val_dataset, batch_size=42)\n",
        "\n",
        "# Instantiate your model and loss and optimizer functions\n",
        "model = LinearNetwork(train_dataset)\n",
        "model = model.cuda()\n",
        "\n",
        "optimizer = optim.SGD(model.parameters(), lr=1e-4)\n",
        "\n",
        "objective = torch.nn.CrossEntropyLoss()\n",
        "\n",
        "# Run your training / validation loops\n",
        "train_losses = []\n",
        "validation_losses = []\n",
        "\n",
        "num_epochs = 100\n",
        "loop = tqdm(total=len(train_loader) * num_epochs, position=0)\n",
        "for epoch in range(num_epochs):\n",
        "  # train\n",
        "  batch = 0\n",
        "  for x, y_truth in train_loader:\n",
        "    # learn\n",
        "    x, y_truth = x.cuda(non_blocking=True), y_truth.cuda(non_blocking=True)\n",
        "\n",
        "    optimizer.zero_grad()\n",
        "\n",
        "    y_hat = model(x)\n",
        "    loss = objective(y_hat, y_truth)\n",
        "\n",
        "    if epoch % 25 == 0 and batch == 0:\n",
        "      train_losses.append(loss.item())\n",
        "      validation_loss_list = []\n",
        "      for val_x, val_y_truth in validation_loader:\n",
        "        val_x, val_y_truth = val_x.cuda(non_blocking=True), val_y_truth.cuda(non_blocking=True)\n",
        "\n",
        "        val_y_hat = model(val_x)\n",
        "        validation_loss_list.append(objective(val_y_hat, val_y_truth))\n",
        "\n",
        "      validation_losses.append((sum(validation_loss_list) / float(len(validation_loss_list ))).item())\n",
        "\n",
        "    loop.set_description('epoch:{} batch:{} loss:{:.4f} val_loss:{:.4f}'.format(epoch, batch, loss.item(), validation_losses[-1]))\n",
        "\n",
        "    loss.backward()\n",
        "    optimizer.step()\n",
        "\n",
        "    batch += 1\n",
        "\n",
        "loop.close()\n"
      ]
    },
    {
      "cell_type": "markdown",
      "metadata": {
        "id": "_IZmHOvirnFn"
      },
      "source": [
        "\n",
        "___\n",
        "\n",
        "### Part 3\n",
        "Your notebook should contain a visualization of test/training\n",
        "performance over time. Use matplotlib.pyplot, and label the graph's axes.\n",
        "\n",
        "**TODO:**\n",
        "* Add a visualization of test/train performance (i.e. loss) over time.\n",
        "\n",
        "**DONE:**\n"
      ]
    },
    {
      "cell_type": "code",
      "execution_count": 7,
      "metadata": {
        "id": "YqYrbI5-WHb3",
        "pycharm": {
          "is_executing": false
        },
        "colab": {
          "base_uri": "https://localhost:8080/",
          "height": 300
        },
        "outputId": "4fe631b1-7f6b-40ff-9420-1fdfe05361a5"
      },
      "outputs": [
        {
          "output_type": "display_data",
          "data": {
            "text/plain": [
              "<Figure size 432x288 with 1 Axes>"
            ],
            "image/png": "[encoded data removed]"
          },
          "metadata": {
            "needs_background": "light"
          }
        }
      ],
      "source": [
        "# Write your code to create a plot of your loss over time\n",
        "fig = plt.figure()\n",
        "ax = fig.add_subplot(111)\n",
        "\n",
        "ax.plot(range(len(validation_losses)), validation_losses, label=\"Validation loss\")\n",
        "ax.plot(range(len(train_losses)), train_losses, label=\"Training loss\")\n",
        "\n",
        "plt.xlabel(\"Time (Iterations)\")\n",
        "plt.ylabel(\"Loss\")\n",
        "plt.legend()\n",
        "plt.show()"
      ]
    },
    {
      "cell_type": "markdown",
      "metadata": {
        "id": "0wW4QNYG4LE2"
      },
      "source": [
        "\n",
        "___\n",
        "\n",
        "### Part 4\n",
        "Complete the following microtasks to learn some important PyTorch skills.\n",
        "\n",
        "If you do not know how to complete one of the microtasks, use [PyTorch's documentation](https://pytorch.org/docs/stable/index.html)! PyTorch is very well documented, and you will need to learn how to use the documentation, especially in later labs.\n",
        "\n",
        "**TODO:**\n",
        "* Complete microtasks\n",
        "\n",
        "**DONE:**"
      ]
    },
    {
      "cell_type": "markdown",
      "metadata": {
        "id": "bcF5kH6s3lck"
      },
      "source": [
        "### Computation Graph Microtasks"
      ]
    },
    {
      "cell_type": "code",
      "execution_count": null,
      "metadata": {
        "id": "DlTwpjNV3lck",
        "colab": {
          "base_uri": "https://localhost:8080/"
        },
        "outputId": "cb8a3b48-72cb-4176-dff4-485434f7ee40"
      },
      "outputs": [
        {
          "output_type": "stream",
          "name": "stdout",
          "text": [
            "tensor([0.2984, 0.1411, 0.7544, 0.9723, 0.9566, 0.5064, 0.6277, 0.6885, 0.2597,\n",
            "        0.2730])\n"
          ]
        }
      ],
      "source": [
        "# To understand how PyTorch organizes the computation graph, let's walk through \n",
        "# a quick example!\n",
        "\n",
        "# 1. First, construct a tensor 'a' that contains 10 random floats. \n",
        "# This will simulate the output layer of a network. Hint: use `torch.rand`.\n",
        "a = torch.rand(10, dtype=torch.float)\n",
        "\n",
        "print(a)\n",
        "assert a.size() == torch.Size([10])"
      ]
    },
    {
      "cell_type": "code",
      "execution_count": null,
      "metadata": {
        "id": "k0XRcR_S3lck",
        "colab": {
          "base_uri": "https://localhost:8080/"
        },
        "outputId": "32cc50b3-42be-4036-92df-dbe78cf5f5d5"
      },
      "outputs": [
        {
          "output_type": "stream",
          "name": "stdout",
          "text": [
            "Parameter containing:\n",
            "tensor([0.2984, 0.1411, 0.7544, 0.9723, 0.9566, 0.5064, 0.6277, 0.6885, 0.2597,\n",
            "        0.2730], requires_grad=True)\n"
          ]
        }
      ],
      "source": [
        "# 2. Now turn 'a' into an `nn.Parameter` so that it be attached to the computation\n",
        "# graph.\n",
        "a = nn.Parameter(a)\n",
        "\n",
        "print(a)\n",
        "assert type(a) == nn.Parameter\n",
        "\n",
        "# Notice that our original tensor 'a' is nested inside of a Parameter object.\n",
        "# The Parameter object knows that it will need to compute gradients at some point.\n",
        "\n",
        "# No need to do anything here, but this assert should pass.\n",
        "assert a.requires_grad == True"
      ]
    },
    {
      "cell_type": "code",
      "execution_count": null,
      "metadata": {
        "id": "WHi_J5iU3lck",
        "colab": {
          "base_uri": "https://localhost:8080/"
        },
        "outputId": "97ce8bc8-2219-45da-c757-1b48fe72f332"
      },
      "outputs": [
        {
          "output_type": "stream",
          "name": "stdout",
          "text": [
            "tensor(2.2022, grad_fn=<NllLossBackward0>)\n",
            "tensor([ 0.0748,  0.0640,  0.1181,  0.1468,  0.1446,  0.0922,  0.1040, -0.8894,\n",
            "         0.0720,  0.0730])\n"
          ]
        }
      ],
      "source": [
        "# 3. Let's run 'a' through a loss function. The output of the loss function is\n",
        "# just another tensor, but this tensor remembers what operations produced it.\n",
        "loss_fn = nn.CrossEntropyLoss()\n",
        "loss = loss_fn(a.unsqueeze(0), torch.Tensor([7]).long())\n",
        "print(loss)\n",
        "\n",
        "# Now, instruct the network to do a backward pass, by calling '.backward()' on the \n",
        "# result of the loss function. We should now be able to see the gradients that \n",
        "# were computed for 'a' w.r.t. the loss.\n",
        "loss.backward()\n",
        "\n",
        "assert a.grad is not None\n",
        "print(a.grad)"
      ]
    },
    {
      "cell_type": "code",
      "execution_count": null,
      "metadata": {
        "id": "8ym_o0xd3lck",
        "colab": {
          "base_uri": "https://localhost:8080/"
        },
        "outputId": "46e8b7e0-7a27-40b6-b37a-760785966827"
      },
      "outputs": [
        {
          "output_type": "stream",
          "name": "stdout",
          "text": [
            "Parameter containing:\n",
            "tensor([0.2984, 0.1411, 0.7544, 0.9723, 0.9566, 0.5064, 0.6277, 0.6885, 0.2597,\n",
            "        0.2730], requires_grad=True)\n",
            "tensor([0.2984, 0.1411, 0.7544, 0.9723, 0.9566, 0.5064, 0.6277, 0.6885, 0.2597,\n",
            "        0.2730])\n"
          ]
        }
      ],
      "source": [
        "# 4. If we were to use 'a' in another operation, this might affect the computation graph.\n",
        "# To make sure that you are not adversely affecting the computation graph, call\n",
        "# `.detach()` on 'a' and assign the result to a new variable 'b'.\n",
        "b = a.detach()\n",
        "\n",
        "print(a)\n",
        "print(b)\n",
        "assert a.requires_grad == True\n",
        "assert b.requires_grad == False"
      ]
    }
  ],
  "metadata": {
    "accelerator": "GPU",
    "colab": {
      "provenance": []
    },
    "kernelspec": {
      "display_name": "Python 3",
      "language": "python",
      "name": "python3"
    },
    "language_info": {
      "codemirror_mode": {
        "name": "ipython",
        "version": 3
      },
      "file_extension": ".py",
      "mimetype": "text/x-python",
      "name": "python",
      "nbconvert_exporter": "python",
      "pygments_lexer": "ipython3",
      "version": "3.7.1"
    },
    "pycharm": {
      "stem_cell": {
        "cell_type": "raw",
        "metadata": {
          "collapsed": false
        },
        "source": []
      }
    },
    "gpuClass": "standard"
  },
  "nbformat": 4,
  "nbformat_minor": 0
}