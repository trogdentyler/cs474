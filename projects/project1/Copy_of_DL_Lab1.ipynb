{
  "cells": [
    {
      "cell_type": "markdown",
      "metadata": {
        "id": "bkj1_ftQtuBk"
      },
      "source": [
        "# Lab 1: Getting Started\n",
        "\n",
        "## Objective  \n",
        "Get started with Google Colab, Python, and PyTorch. See deep learning in action with TensorFlow playground.\n",
        "\n",
        "## Deliverable\n",
        "For this lab, you will submit a Colab notebook (.ipynb) via Learning Suite.\n",
        "\n",
        "___\n",
        "\n",
        "### Grading\n",
        "Your notebook will be graded on the following:\n",
        "* 50% Part 1: Completed the 10 PyTorch microtasks\n",
        "* 40% Part 2: Image indicating TensorFlow success\n",
        "* 10% Tidy and legible figures, (for the future make sure to label axes where appropriate)\n",
        "\n",
        "___\n",
        "\n",
        "### Overview of Google Colab\n",
        "Throughout this class, we recommend you use Google's Colaboratory (Colab) for the labs. If you aren't familiar with Colab or IPython notebooks, take some time to look at the tutorials linked below.\n",
        "\n",
        "Colab provides an environment that interacts with IPython notebooks (similar to Jupyter) and utilizes a standardized Python distribution.\n",
        "In addition, Colab provides a GPU we can use for deep learning. We will talk about the advantages of GPU vs CPU training in class.\n",
        "\n",
        "While you are allowed to do the labs on your own machine, using Jupyter or some other IPython notebook editor, the labs were written and updated for the current Python distribution used by Colab. You may need to do extra troubleshooting to get them working locally. Also, setting up your own GPU for deep learning may be difficult, and training on the CPU may be unbearably slow in later labs.\n",
        "\n",
        "### Lab Details\n",
        "\n",
        "This lab is intended to get you used to IPython notebooks, Colab, and a few basic deep learning principles.\n",
        "\n",
        "As described above, the notebook should do two things: \n",
        "1.    Complete all 10 microtasks\n",
        "2.    Display an image that you generate using the Tensorflow playground\n",
        "\n",
        "For part 1, you will be using the PyTorch documentation to learn how to complete simple tasks. Each task is solvable in one or two lines of code. Links are provided for each microtask to give you a guided introduction to PyTorch.\n",
        "\n",
        "For part 2, you should visit the [TensorFlow playground](http://playground.tensorflow.org/),\n",
        "and play with different settings. Most of it will be unfamiliar,\n",
        "but don't worry – you can't break it!\n",
        "Once you have a working classifier on the spiral dataset, take a screenshot. \n",
        "Then use your Colab notebook to display that image in-line.\n",
        "___\n",
        "\n",
        "#### Helpful Links\n",
        "\n",
        "[Google Colab](http://colab.research.google.com/) The site where you will probably be coding the labs\n",
        "\n",
        "[A Colab notebook teaching you how to use Colab notebooks](https://colab.research.google.com/drive/1TzaPS3jvRadN-URLbQ9nD1ZNoZktfNRy)\n",
        "\n",
        "[Various Colab tutorials](https://sites.google.com/site/artml2018/tutorials)\n",
        "\n",
        "___"
      ]
    },
    {
      "cell_type": "markdown",
      "metadata": {
        "id": "X8ShhtC5HwcR"
      },
      "source": [
        "### Part 1\n",
        "\n",
        "This is a quick guided walkthrough of PyTorch tensors.\n",
        "\n",
        "PyTorch is a Python library based on the Torch machine learning framework. While other great deep learning alternatives exist, the labs we use in this course were written exclusively for PyTorch.\n",
        "\n",
        "#### Tensors\n",
        "\n",
        "The main PyTorch data structure is the tensor. A tensor in mathematics is a matrix or vector-like structure with more than 2 dimensions, though PyTorch tensors can have 0 or more dimensions. Tensors are implemented similarly to NumPy arrays, and most of what can be done with NumPy can be done with PyTorch tensors. Complete the microtasks in the cells below to learn basic PyTorch tensor manipulation. We provide links to the documentation for this lab, but you should feel comfortable searching the documentation yourself in later labs."
      ]
    },
    {
      "cell_type": "markdown",
      "metadata": {
        "id": "PFZoQdzxHwcR"
      },
      "source": [
        "**TODO:** // Here are the list of things to do for this part\n",
        "\n",
        "* Complete the tensor microtasks\n",
        "\n",
        "**DONE:** // Put items from the TODO list here when you are done with them (double click on the cell, cut and paste the line). This is for your benefit as well as the TAs to help with grading.\n"
      ]
    },
    {
      "cell_type": "code",
      "execution_count": 1,
      "metadata": {
        "id": "vrCmeRLtHwcS"
      },
      "outputs": [],
      "source": [
        "# Import statements for microtasks: Run this cell before running the microtask cells!\n",
        "import torch\n",
        "import numpy as np"
      ]
    },
    {
      "cell_type": "markdown",
      "metadata": {
        "id": "TTWl_wgBHwcS"
      },
      "source": [
        "##### Task 1\n",
        "Tensors are the the lifeblood of PyTorch.<br>\n",
        "Construct a 5x3 tensor, 'a', of zeros and of dtype long. <br>\n",
        "https://pytorch.org/docs/stable/generated/torch.zeros.html <br>\n",
        "(To create tensors of other values, see `torch.ones()` and `torch.full()`)"
      ]
    },
    {
      "cell_type": "code",
      "execution_count": 2,
      "metadata": {
        "colab": {
          "base_uri": "https://localhost:8080/"
        },
        "id": "A9aHouhQ6cou",
        "outputId": "cc404948-3f76-479c-802f-7ecb5d379efd"
      },
      "outputs": [
        {
          "name": "stdout",
          "output_type": "stream",
          "text": [
            "tensor([[0, 0, 0],\n",
            "        [0, 0, 0],\n",
            "        [0, 0, 0],\n",
            "        [0, 0, 0],\n",
            "        [0, 0, 0]])\n",
            "torch.Size([5, 3])\n"
          ]
        }
      ],
      "source": [
        "# Your code here:\n",
        "a = torch.zeros((5, 3), dtype=torch.long)\n",
        "#\n",
        "# Don't change the following prints and asserts\n",
        "print(a)\n",
        "print(a.size())\n",
        "assert a.size() == torch.Size([5, 3])\n",
        "assert type(a[0][0].item()) is int"
      ]
    },
    {
      "cell_type": "markdown",
      "metadata": {
        "id": "1Ul6DUWkHwcT"
      },
      "source": [
        "##### Task 2\n",
        "Many of your bugs will come from incorrect tensor dimensions. <br>\n",
        "PyTorch has several built-in functions to give you the control need. <br>\n",
        "Using only the tensor's [`.unsqueeze()`](https://pytorch.org/docs/stable/tensors.html#torch.Tensor.unsqueeze) function, turn 'a' into a 5x1x3 tensor. Hint: use the `dim=` argument"
      ]
    },
    {
      "cell_type": "code",
      "execution_count": 3,
      "metadata": {
        "colab": {
          "base_uri": "https://localhost:8080/"
        },
        "id": "6rfOY4HqYDTP",
        "outputId": "91bf1cd2-b64c-457a-ee01-360b096f40b5"
      },
      "outputs": [
        {
          "name": "stdout",
          "output_type": "stream",
          "text": [
            "torch.Size([5, 1, 3])\n"
          ]
        }
      ],
      "source": [
        "#\n",
        "a = a.unsqueeze(1)\n",
        "#\n",
        "print(a.shape)\n",
        "assert a.shape == torch.Size([5, 1, 3])"
      ]
    },
    {
      "cell_type": "markdown",
      "metadata": {
        "id": "YJOAfcd5HwcT"
      },
      "source": [
        "##### Task 3\n",
        "Each dimension means something different. <br>\n",
        "You can change the order of your dimensions without losing information. <br>\n",
        "Reshape 'a' into a 5x3x1 tensor, using the [`.view()`](https://pytorch.org/docs/stable/tensors.html#torch.Tensor.view) function"
      ]
    },
    {
      "cell_type": "code",
      "execution_count": 4,
      "metadata": {
        "colab": {
          "base_uri": "https://localhost:8080/"
        },
        "id": "zY1SJ95Ekokk",
        "outputId": "db38d310-2c33-4b3d-9616-6017aea3a2ae"
      },
      "outputs": [
        {
          "name": "stdout",
          "output_type": "stream",
          "text": [
            "torch.Size([5, 3, 1])\n"
          ]
        }
      ],
      "source": [
        "#\n",
        "a = a.view(5, 3, 1)\n",
        "#\n",
        "print(a.shape)\n",
        "assert a.shape == torch.Size([5, 3, 1])"
      ]
    },
    {
      "cell_type": "markdown",
      "metadata": {
        "id": "zC0fyR1HHwcT"
      },
      "source": [
        "##### Task 4\n",
        "Dimensions of size 1 can sometimes be necessary for shape matching. <br>\n",
        "However, they can be removed without losing information. <br>\n",
        "[`squeeze()`](https://pytorch.org/docs/stable/tensors.html#torch.Tensor.squeeze) 'a' to remove dimensions of 1."
      ]
    },
    {
      "cell_type": "code",
      "execution_count": 5,
      "metadata": {
        "colab": {
          "base_uri": "https://localhost:8080/"
        },
        "id": "_0Q_1vDtmaKW",
        "outputId": "2923c44e-bfbb-4f20-b623-184399b8a533"
      },
      "outputs": [
        {
          "name": "stdout",
          "output_type": "stream",
          "text": [
            "torch.Size([5, 3])\n"
          ]
        }
      ],
      "source": [
        "#\n",
        "a = a.squeeze()\n",
        "#\n",
        "print(a.shape)\n",
        "assert a.size() == torch.Size([5, 3])"
      ]
    },
    {
      "cell_type": "markdown",
      "metadata": {
        "id": "CUb3S7X3HwcU"
      },
      "source": [
        "##### Task 5\n",
        "You can turn any tensor into a tensor of a single dimension. <br>\n",
        "[`flatten()`](https://pytorch.org/docs/stable/tensors.html#torch.Tensor.flatten) 'a' to a single dimension."
      ]
    },
    {
      "cell_type": "code",
      "execution_count": 6,
      "metadata": {
        "colab": {
          "base_uri": "https://localhost:8080/"
        },
        "id": "5miM1dYxnmSY",
        "outputId": "20bf3d15-a310-479c-8d24-f71d009d0860"
      },
      "outputs": [
        {
          "name": "stdout",
          "output_type": "stream",
          "text": [
            "torch.Size([15])\n"
          ]
        }
      ],
      "source": [
        "#\n",
        "a = a.flatten()\n",
        "#\n",
        "print(a.size())\n",
        "assert  a.size() == torch.Size([15]) "
      ]
    },
    {
      "cell_type": "markdown",
      "metadata": {
        "id": "qlTJQ4o5HwcU"
      },
      "source": [
        "##### Task 6\n",
        "It's easy to integrate other common Python data structures. <br>\n",
        "Initialize a tensor, 'b', from a list. <br>\n",
        "Note that the constructor `torch.Tensor()` creates a tensor of a default dtype (float), while the function [`torch.tensor()`](https://pytorch.org/docs/stable/generated/torch.tensor.html#torch.tensor) either uses a specified dtype or determines the type from the data passed in."
      ]
    },
    {
      "cell_type": "code",
      "execution_count": 7,
      "metadata": {
        "colab": {
          "base_uri": "https://localhost:8080/"
        },
        "id": "oxX1Ybcc7gDW",
        "outputId": "daf6343e-3a9e-4670-eba6-0bd6d283e445"
      },
      "outputs": [
        {
          "name": "stdout",
          "output_type": "stream",
          "text": [
            "tensor([1, 2, 3, 4, 5])\n"
          ]
        }
      ],
      "source": [
        "my_list = [1,2,3,4,5]\n",
        "#\n",
        "b = torch.tensor(my_list)\n",
        "#\n",
        "print(b)\n",
        "assert b.size() == torch.Size([5])"
      ]
    },
    {
      "cell_type": "markdown",
      "metadata": {
        "id": "69OROAfoHwcU"
      },
      "source": [
        "##### Task 7\n",
        "GPUs will allow tensor operations to run much faster. <br>\n",
        "Assign 'a' and 'b' to run on GPU. <br>\n",
        "https://pytorch.org/docs/stable/tensors.html#torch.Tensor.cuda\n",
        "\n",
        "Note that this will not work if you don't have a cuda-enabled GPU available. You can connect to a machine with a GPU in Colab if you go to Runtime -> Change Runtime Type and set hardware accelerator to GPU, then click save."
      ]
    },
    {
      "cell_type": "code",
      "execution_count": 8,
      "metadata": {
        "colab": {
          "base_uri": "https://localhost:8080/"
        },
        "id": "4XpqRqfG9DTr",
        "outputId": "af7d0beb-9a50-4dc8-85b0-83a1b7015035"
      },
      "outputs": [
        {
          "name": "stdout",
          "output_type": "stream",
          "text": [
            "tensor([0, 0, 0, 0, 0, 0, 0, 0, 0, 0, 0, 0, 0, 0, 0]) tensor([1, 2, 3, 4, 5])\n"
          ]
        },
        {
          "ename": "AssertionError",
          "evalue": "",
          "output_type": "error",
          "traceback": [
            "\u001b[0;31m---------------------------------------------------------------------------\u001b[0m",
            "\u001b[0;31mAssertionError\u001b[0m                            Traceback (most recent call last)",
            "Cell \u001b[0;32mIn[8], line 13\u001b[0m\n\u001b[1;32m     11\u001b[0m \u001b[39m#\u001b[39;00m\n\u001b[1;32m     12\u001b[0m \u001b[39mprint\u001b[39m(a, b)\n\u001b[0;32m---> 13\u001b[0m \u001b[39massert\u001b[39;00m a\u001b[39m.\u001b[39mis_cuda \u001b[39mand\u001b[39;00m b\u001b[39m.\u001b[39mis_cuda\n",
            "\u001b[0;31mAssertionError\u001b[0m: "
          ]
        }
      ],
      "source": [
        "#\n",
        "if torch.cuda.is_available():\n",
        "  dev = \"cuda:0\"\n",
        "else:\n",
        "  dev = \"cpu\"\n",
        "\n",
        "device = torch.device(dev)\n",
        "\n",
        "a = a.to(device)\n",
        "b = b.to(device)\n",
        "#\n",
        "print(a, b)\n",
        "assert a.is_cuda and b.is_cuda"
      ]
    },
    {
      "cell_type": "markdown",
      "metadata": {
        "id": "O-3PTKXnHwcV"
      },
      "source": [
        "##### Task 8\n",
        "You cannot perform operations on tensors that are on different devices (GPU and CPU), and a tensor on the GPU cannot be converted to a NumPy array or visualized with Matplotlib. <br>\n",
        "Assign 'a' and 'b' to run on CPU. <br>\n",
        "https://pytorch.org/docs/stable/tensors.html#torch.Tensor.cpu"
      ]
    },
    {
      "cell_type": "code",
      "execution_count": null,
      "metadata": {
        "colab": {
          "base_uri": "https://localhost:8080/"
        },
        "id": "FPD6NUDf7915",
        "outputId": "26620630-2480-4a49-8a6a-2fda1e95995b"
      },
      "outputs": [
        {
          "name": "stdout",
          "output_type": "stream",
          "text": [
            "tensor([0, 0, 0, 0, 0, 0, 0, 0, 0, 0, 0, 0, 0, 0, 0]) tensor([1, 2, 3, 4, 5])\n"
          ]
        }
      ],
      "source": [
        "#\n",
        "device = torch.device(\"cpu\")\n",
        "\n",
        "a = a.to(device)\n",
        "b = b.to(device)\n",
        "#\n",
        "print(a, b)\n",
        "assert not a.is_cuda and not b.is_cuda"
      ]
    },
    {
      "cell_type": "markdown",
      "metadata": {
        "id": "IvS1_QY3HwcV"
      },
      "source": [
        "##### Task 9\n",
        "You will often want to convert tensors to NumPy arrays to interact with other Python libraries. <br>\n",
        "Convert 'a' to a NumPy array 'c'. <br>\n",
        "https://pytorch.org/docs/stable/tensors.html#torch.Tensor.numpy"
      ]
    },
    {
      "cell_type": "code",
      "execution_count": null,
      "metadata": {
        "colab": {
          "base_uri": "https://localhost:8080/"
        },
        "id": "1GMvFc2c9P_i",
        "outputId": "b478ed60-2653-48ba-ee40-342a2e096ae7"
      },
      "outputs": [
        {
          "name": "stdout",
          "output_type": "stream",
          "text": [
            "<class 'numpy.ndarray'>\n"
          ]
        }
      ],
      "source": [
        "#\n",
        "c = a.numpy()\n",
        "#\n",
        "print(type(c))\n",
        "assert type(c) == np.ndarray"
      ]
    },
    {
      "cell_type": "markdown",
      "metadata": {
        "id": "fkE4P2s2HwcV"
      },
      "source": [
        "##### Task 10\n",
        "You may often want to convert your NumPy data back into PyTorch. <br>\n",
        "Convert NumPy array 'c' to tensor 'd'. <br>\n",
        "https://pytorch.org/docs/stable/generated/torch.from_numpy.html"
      ]
    },
    {
      "cell_type": "code",
      "execution_count": null,
      "metadata": {
        "colab": {
          "base_uri": "https://localhost:8080/"
        },
        "id": "EVFr_ZNgBMHL",
        "outputId": "e898c354-6e1b-402c-c0f7-d943f511bbc6"
      },
      "outputs": [
        {
          "name": "stdout",
          "output_type": "stream",
          "text": [
            "torch.LongTensor\n"
          ]
        }
      ],
      "source": [
        "#\n",
        "d = torch.tensor(c)\n",
        "#\n",
        "print(d.type())\n",
        "assert torch.is_tensor(d)"
      ]
    },
    {
      "cell_type": "markdown",
      "metadata": {
        "id": "fM3h46ZAucnV"
      },
      "source": [
        "\n",
        "___\n",
        "\n",
        "### Part 2\n",
        "\n",
        "You must play with the Tensorflow playground neural network, and figure out how to create a classifier that successfully classifies the “spiral” dataset. Take a screenshot containing the visualization of the dataset and your classifier, the network architecture, and the hyperparameters of the classifier that learned the spiral dataset.\n",
        "\n",
        "\n",
        "[TensorFlow playground](http://playground.tensorflow.org/)\n",
        "\n",
        "**TODO:**\n",
        "* Create a classifier that successfully classifies the \"spiral\" dataset\n",
        "* Display the image below\n",
        "\n",
        "**DONE:**\n"
      ]
    },
    {
      "cell_type": "code",
      "execution_count": 9,
      "metadata": {
        "colab": {
          "base_uri": "https://localhost:8080/",
          "height": 473
        },
        "id": "DBbs0z9_HwcW",
        "outputId": "53132d79-6230-4c14-a6ea-48c01215b429"
      },
      "outputs": [
        {
          "ename": "ModuleNotFoundError",
          "evalue": "No module named 'PIL'",
          "output_type": "error",
          "traceback": [
            "\u001b[0;31m---------------------------------------------------------------------------\u001b[0m",
            "\u001b[0;31mModuleNotFoundError\u001b[0m                       Traceback (most recent call last)",
            "Cell \u001b[0;32mIn[9], line 5\u001b[0m\n\u001b[1;32m      1\u001b[0m \u001b[39m# Run this cell to upload and display your screenshot.\u001b[39;00m\n\u001b[1;32m      2\u001b[0m \u001b[39m# The results of code cells are saved along with the file, so if you can see the image below, we'll see it too.\u001b[39;00m\n\u001b[1;32m      4\u001b[0m \u001b[39mimport\u001b[39;00m \u001b[39mio\u001b[39;00m\n\u001b[0;32m----> 5\u001b[0m \u001b[39mfrom\u001b[39;00m \u001b[39mPIL\u001b[39;00m \u001b[39mimport\u001b[39;00m Image\n\u001b[1;32m      6\u001b[0m \u001b[39mfrom\u001b[39;00m \u001b[39mgoogle\u001b[39;00m\u001b[39m.\u001b[39;00m\u001b[39mcolab\u001b[39;00m \u001b[39mimport\u001b[39;00m files\n\u001b[1;32m      7\u001b[0m \u001b[39mimport\u001b[39;00m \u001b[39mmatplotlib\u001b[39;00m\u001b[39m.\u001b[39;00m\u001b[39mpyplot\u001b[39;00m \u001b[39mas\u001b[39;00m \u001b[39mplt\u001b[39;00m\n",
            "\u001b[0;31mModuleNotFoundError\u001b[0m: No module named 'PIL'"
          ]
        }
      ],
      "source": [
        "# Run this cell to upload and display your screenshot.\n",
        "# The results of code cells are saved along with the file, so if you can see the image below, we'll see it too.\n",
        "\n",
        "import io\n",
        "from PIL import Image\n",
        "from google.colab import files\n",
        "import matplotlib.pyplot as plt\n",
        "\n",
        "file_dict = files.upload()\n",
        "print(file_dict)\n",
        "image_path = io.BytesIO(file_dict[next(iter(file_dict))])\n",
        "image = Image.open(image_path)\n",
        "plt.imshow(image, aspect='auto')\n",
        "plt.axis('off')\n",
        "plt.show()"
      ]
    },
    {
      "cell_type": "code",
      "execution_count": null,
      "metadata": {
        "id": "U9ksTSgjUjWN"
      },
      "outputs": [],
      "source": []
    }
  ],
  "metadata": {
    "accelerator": "GPU",
    "colab": {
      "provenance": []
    },
    "gpuClass": "standard",
    "kernelspec": {
      "display_name": "deeplearning",
      "language": "python",
      "name": "python3"
    },
    "language_info": {
      "codemirror_mode": {
        "name": "ipython",
        "version": 3
      },
      "file_extension": ".py",
      "mimetype": "text/x-python",
      "name": "python",
      "nbconvert_exporter": "python",
      "pygments_lexer": "ipython3",
      "version": "3.10.8"
    },
    "pycharm": {
      "stem_cell": {
        "cell_type": "raw",
        "metadata": {
          "collapsed": false
        },
        "source": []
      }
    },
    "vscode": {
      "interpreter": {
        "hash": "fed2aa9592218c4b4de25ecb09c6b292eb81f342cc059d9c96856c64676dbef4"
      }
    }
  },
  "nbformat": 4,
  "nbformat_minor": 0
}
